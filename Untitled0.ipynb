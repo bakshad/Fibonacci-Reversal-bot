{
  "nbformat": 4,
  "nbformat_minor": 0,
  "metadata": {
    "colab": {
      "provenance": [],
      "authorship_tag": "ABX9TyOoqPyGoz8Q5CqrzCI9J88K",
      "include_colab_link": true
    },
    "kernelspec": {
      "name": "python3",
      "display_name": "Python 3"
    },
    "language_info": {
      "name": "python"
    }
  },
  "cells": [
    {
      "cell_type": "markdown",
      "metadata": {
        "id": "view-in-github",
        "colab_type": "text"
      },
      "source": [
        "<a href=\"https://colab.research.google.com/github/bakshad/Fibonacci-Reversal-bot/blob/main/Untitled0.ipynb\" target=\"_parent\"><img src=\"https://colab.research.google.com/assets/colab-badge.svg\" alt=\"Open In Colab\"/></a>"
      ]
    },
    {
      "cell_type": "code",
      "execution_count": 15,
      "metadata": {
        "colab": {
          "base_uri": "https://localhost:8080/"
        },
        "id": "DbVhZ5nD5YPu",
        "outputId": "09a0082f-9a5c-4aa4-f712-3c9abb857709"
      },
      "outputs": [
        {
          "output_type": "stream",
          "name": "stderr",
          "text": [
            "/tmp/ipython-input-15-2268280112.py:115: FutureWarning: YF.download() has changed argument auto_adjust default to True\n",
            "  df = yf.download(sym_ns, period='40d', interval='1d', progress=False)\n",
            "ERROR:yfinance:\n",
            "1 Failed download:\n",
            "ERROR:yfinance:['SYMBOL1.NS']: YFPricesMissingError('possibly delisted; no price data found  (period=40d) (Yahoo error = \"No data found, symbol may be delisted\")')\n",
            "/tmp/ipython-input-15-2268280112.py:115: FutureWarning: YF.download() has changed argument auto_adjust default to True\n",
            "  df = yf.download(sym_ns, period='40d', interval='1d', progress=False)\n",
            "ERROR:yfinance:\n",
            "1 Failed download:\n",
            "ERROR:yfinance:['SYMBOL2.NS']: YFPricesMissingError('possibly delisted; no price data found  (period=40d) (Yahoo error = \"No data found, symbol may be delisted\")')\n"
          ]
        }
      ],
      "source": [
        "# _F&O reversal signals + paper/live trading + Telegram alerts + CSV logs_\n",
        "\n",
        "import pandas as pd\n",
        "import yfinance as yf\n",
        "import numpy as np\n",
        "from datetime import datetime, timedelta\n",
        "import pytz\n",
        "import os\n",
        "import json\n",
        "import requests\n",
        "from py5paisa import FivePaisaClient\n",
        "\n",
        "# PAPER or LIVE mode\n",
        "TRADING_MODE = \"PAPER\"\n",
        "# Your Telegram credentials\n",
        "TELEGRAM_TOKEN = 'YOUR_TELEGRAM_BOT_TOKEN'\n",
        "TELEGRAM_CHAT_ID = 'YOUR_TELEGRAM_CHAT_ID'\n",
        "\n",
        "# F&O symbols\n",
        "fo_symbols = pd.read_csv('fno_symbols.csv')['symbol'].tolist()\n",
        "# Lot sizes\n",
        "lots_df = pd.read_csv('fno_lots.csv')\n",
        "symbol_lots = dict(zip(lots_df['symbol'], lots_df['lot_size']))\n",
        "\n",
        "now_ist = datetime.now(pytz.timezone('Asia/Kolkata'))\n",
        "today = now_ist.date()\n",
        "\n",
        "def is_expiry_day(date):\n",
        "    # Last Thursday of month\n",
        "    rng = pd.date_range(date.replace(day=1), date + timedelta(days=31), freq='W-THU')\n",
        "    return date == max(rng).date()\n",
        "\n",
        "expiry_today = is_expiry_day(now_ist)\n",
        "\n",
        "def chandelier_exit(df, period=22, multiplier=3.0):\n",
        "    hh = df['High'].rolling(window=period).max()\n",
        "    ll = df['Low'].rolling(window=period).min()\n",
        "    atr = (hh - ll).ewm(span=period, min_periods=period).mean()\n",
        "    return hh - multiplier*atr, ll + multiplier*atr, atr\n",
        "\n",
        "def send_telegram_message(msg):\n",
        "    if not TELEGRAM_TOKEN or not TELEGRAM_CHAT_ID:\n",
        "        return\n",
        "    url = f'https://api.telegram.org/bot{TELEGRAM_TOKEN}/sendMessage'\n",
        "    data = {'chat_id': TELEGRAM_CHAT_ID, 'text': msg, 'parse_mode': 'Markdown'}\n",
        "    try:\n",
        "        r = requests.post(url, data=data, timeout=10)\n",
        "        if r.status_code != 200:\n",
        "            print('Telegram error:', r.text)\n",
        "    except Exception as e:\n",
        "        print('Telegram exception:', e)\n",
        "\n",
        "def get_5paisa_client():\n",
        "    creds = {\n",
        "        k: os.getenv(f\"FIVEPAISA_{k}\") for k in\n",
        "        (\"APP_NAME\",\"APP_SOURCE\",\"USER_ID\",\"PASSWORD\",\"USER_KEY\",\"ENCRYPTION_KEY\",\"DOB\")\n",
        "    }\n",
        "    if not creds[\"APP_NAME\"]:\n",
        "        with open(\"5paisa_creds.json\") as f:\n",
        "            creds = json.load(f)\n",
        "    client = FivePaisaClient(\n",
        "        email=None, passwd=None, dob=creds[\"DOB\"],\n",
        "        app_source=creds[\"APP_SOURCE\"],\n",
        "        user_id=creds[\"USER_ID\"], password=creds[\"PASSWORD\"],\n",
        "        userkey=creds[\"USER_KEY\"], enckey=creds[\"ENCRYPTION_KEY\"],\n",
        "        appname=creds[\"APP_NAME\"]\n",
        "    )\n",
        "    client.login()\n",
        "    return client\n",
        "\n",
        "def paper_trade_action(action, s, price, sig, conf, ts, qty):\n",
        "    row = {'Timestamp':ts,'Symbol':s,'Action':action,'Price':price,\n",
        "           'Signal':sig,'Confidence':conf,'Qty':qty}\n",
        "    fn = 'paper_orders.csv'\n",
        "    pd.DataFrame([row]).to_csv(fn, mode='a', header=not os.path.exists(fn), index=False)\n",
        "    send_telegram_message(f\"*PAPER TRADE*\\n{action} `{s}` ×{qty} @ {price:.2f}\\n{sig}\\nConf: {conf:.2f}\\nTime: {ts}\")\n",
        "\n",
        "def live_trade_action(action, s, price, sig, conf, ts, qty):\n",
        "    global fivepaisa_client\n",
        "    if 'fivepaisa_client' not in globals():\n",
        "        fivepaisa_client = get_5paisa_client()\n",
        "    scr = fivepaisa_client.search_scrip(s)[0]\n",
        "    resp = fivepaisa_client.place_order(\n",
        "        OrderType='B' if action=='BUY' else 'S',\n",
        "        Exchange='N', ExchangeType='D', ScripCode=scr['ScripCode'],\n",
        "        Qty=qty, Price=0, IsIntraday=True, IsStopLossOrder=False,\n",
        "        StopLossPrice=0, IsIOCOrder=False\n",
        "    )\n",
        "    pd.DataFrame([{\n",
        "      'Timestamp':ts,'Symbol':s,'Action':action,'Price':price,\n",
        "      'Signal':sig,'Confidence':conf,'Qty':qty,'Resp':str(resp)\n",
        "    }]).to_csv('live_orders.csv',mode='a',header=not os.path.exists('live_orders.csv'),index=False)\n",
        "    send_telegram_message(f\"*LIVE* {action} `{s}` ×{qty} @ market\\nResp: {resp}\\nTime: {ts}\")\n",
        "\n",
        "def execute_trade(action, s, price, sig, conf, ts, qty):\n",
        "    (paper_trade_action if TRADING_MODE==\"PAPER\" else live_trade_action)(action,s,price,sig,conf,ts,qty)\n",
        "\n",
        "# Load trade log (for exits)\n",
        "try:\n",
        "    trades_log = pd.read_csv('chandelier_trades_log.csv')\n",
        "except:\n",
        "    trades_log = pd.DataFrame(columns=[\n",
        "      'Symbol','EntryDate','EntryType','EntryPrice','ExitDate','ExitType','ExitPrice','EntryConfidence'\n",
        "    ])\n",
        "signals=[]\n",
        "\n",
        "period, multiplier, vol_w = 22, 3.0, 5\n",
        "\n",
        "for sym_ns in fo_symbols:\n",
        "    sym = sym_ns.replace('.NS','')\n",
        "    if sym not in symbol_lots: continue\n",
        "    qty = symbol_lots[sym]\n",
        "    df = yf.download(sym_ns, period='40d', interval='1d', progress=False)\n",
        "    if df.shape[0] < period+2: continue\n",
        "\n",
        "    df = df.reset_index(drop=True)\n",
        "    df['CE_Long'], df['CE_Short'], df['ATR'] = chandelier_exit(df,period,multiplier)\n",
        "    df['Signal']=None\n",
        "\n",
        "    prev, last = df['Close'].shift(1), df.iloc[-1]\n",
        "    ce_s_p, ce_l_p = df['CE_Short'].shift(1), df['CE_Long'].shift(1)\n",
        "    bullish = (prev < ce_s_p) & (df['Close'] > df['CE_Short'])\n",
        "    bearish = (prev > ce_l_p) & (df['Close'] < df['CE_Long'])\n",
        "    df.loc[bullish,'Signal']='Bullish Reversal'\n",
        "    df.loc[bearish,'Signal']='Bearish Reversal'\n",
        "\n",
        "    sig = df.iloc[-1]['Signal']\n",
        "    ts = now_ist.strftime('%Y-%m-%d %H:%M:%S')\n",
        "    if sig and not ((trades_log['Symbol']==sym)&trades_log['ExitDate'].isnull()).any():\n",
        "        # compute confidence...\n",
        "        atr_pct = abs(last['Close'] - (last['CE_Short'] if sig=='Bullish Reversal' else last['CE_Long']))/ last['ATR']\n",
        "        atr_pct=np.clip(atr_pct,0,5)\n",
        "        vol_avg = df['Volume'][-(vol_w+2):-2].mean() if df.shape[0]>=vol_w+2 else 1\n",
        "        vol_spike = np.clip(last['Volume']/vol_avg,0,10)\n",
        "        recency = 0.5 if ((trades_log['Symbol']==sym)&trades_log['ExitDate'].isnull()).any() else 1\n",
        "        conf = round(0.6*atr_pct+0.3*vol_spike+0.1*recency,2)\n",
        "\n",
        "        # log & alert\n",
        "        signals.append({'Timestamp':ts,'Date':today,'Symbol':sym,'Signal':sig,'Price':last['Close'],'Confidence':conf,'LotSize':qty})\n",
        "        execute_trade('BUY' if sig=='Bullish Reversal' else 'SELL', sym, last['Close'], sig, conf, ts, qty)\n",
        "\n",
        "# Exit logic omitted for brevity—copy that in the next cell."
      ]
    },
    {
      "cell_type": "code",
      "metadata": {
        "colab": {
          "base_uri": "https://localhost:8080/"
        },
        "id": "8c81d6ca",
        "outputId": "060f185f-886c-44f9-9cb3-2ae4fbce69a3"
      },
      "source": [
        "%pip install py5paisa"
      ],
      "execution_count": 6,
      "outputs": [
        {
          "output_type": "stream",
          "name": "stdout",
          "text": [
            "Requirement already satisfied: py5paisa in /usr/local/lib/python3.11/dist-packages (0.7.20)\n",
            "Requirement already satisfied: requests in /usr/local/lib/python3.11/dist-packages (from py5paisa) (2.32.3)\n",
            "Requirement already satisfied: pycryptodome>=3.9.8 in /usr/local/lib/python3.11/dist-packages (from py5paisa) (3.23.0)\n",
            "Requirement already satisfied: certifi>=2020.4.5.1 in /usr/local/lib/python3.11/dist-packages (from py5paisa) (2025.6.15)\n",
            "Requirement already satisfied: chardet>=3.0.4 in /usr/local/lib/python3.11/dist-packages (from py5paisa) (5.2.0)\n",
            "Requirement already satisfied: pbkdf2>=1.3 in /usr/local/lib/python3.11/dist-packages (from py5paisa) (1.3)\n",
            "Requirement already satisfied: urllib3>=1.25.8 in /usr/local/lib/python3.11/dist-packages (from py5paisa) (2.4.0)\n",
            "Requirement already satisfied: idna>=2.9 in /usr/local/lib/python3.11/dist-packages (from py5paisa) (3.10)\n",
            "Requirement already satisfied: loguru>=0.5.1 in /usr/local/lib/python3.11/dist-packages (from py5paisa) (0.7.3)\n",
            "Requirement already satisfied: websocket-client>=0.58.0 in /usr/local/lib/python3.11/dist-packages (from py5paisa) (1.8.0)\n",
            "Requirement already satisfied: pandas>=1.2.4 in /usr/local/lib/python3.11/dist-packages (from py5paisa) (2.2.2)\n",
            "Requirement already satisfied: pyjwt==2.3.0 in /usr/local/lib/python3.11/dist-packages (from py5paisa) (2.3.0)\n",
            "Requirement already satisfied: httpx<0.29.0,>=0.28.1 in /usr/local/lib/python3.11/dist-packages (from py5paisa) (0.28.1)\n",
            "Requirement already satisfied: anyio in /usr/local/lib/python3.11/dist-packages (from httpx<0.29.0,>=0.28.1->py5paisa) (4.9.0)\n",
            "Requirement already satisfied: httpcore==1.* in /usr/local/lib/python3.11/dist-packages (from httpx<0.29.0,>=0.28.1->py5paisa) (1.0.9)\n",
            "Requirement already satisfied: h11>=0.16 in /usr/local/lib/python3.11/dist-packages (from httpcore==1.*->httpx<0.29.0,>=0.28.1->py5paisa) (0.16.0)\n",
            "Requirement already satisfied: numpy>=1.23.2 in /usr/local/lib/python3.11/dist-packages (from pandas>=1.2.4->py5paisa) (2.0.2)\n",
            "Requirement already satisfied: python-dateutil>=2.8.2 in /usr/local/lib/python3.11/dist-packages (from pandas>=1.2.4->py5paisa) (2.9.0.post0)\n",
            "Requirement already satisfied: pytz>=2020.1 in /usr/local/lib/python3.11/dist-packages (from pandas>=1.2.4->py5paisa) (2025.2)\n",
            "Requirement already satisfied: tzdata>=2022.7 in /usr/local/lib/python3.11/dist-packages (from pandas>=1.2.4->py5paisa) (2025.2)\n",
            "Requirement already satisfied: charset-normalizer<4,>=2 in /usr/local/lib/python3.11/dist-packages (from requests->py5paisa) (3.4.2)\n",
            "Requirement already satisfied: six>=1.5 in /usr/local/lib/python3.11/dist-packages (from python-dateutil>=2.8.2->pandas>=1.2.4->py5paisa) (1.17.0)\n",
            "Requirement already satisfied: sniffio>=1.1 in /usr/local/lib/python3.11/dist-packages (from anyio->httpx<0.29.0,>=0.28.1->py5paisa) (1.3.1)\n",
            "Requirement already satisfied: typing_extensions>=4.5 in /usr/local/lib/python3.11/dist-packages (from anyio->httpx<0.29.0,>=0.28.1->py5paisa) (4.14.0)\n"
          ]
        }
      ]
    },
    {
      "cell_type": "code",
      "metadata": {
        "colab": {
          "base_uri": "https://localhost:8080/"
        },
        "id": "67988ce3",
        "outputId": "28515457-b661-472b-b4fb-9fb6cd09aebb"
      },
      "source": [
        "import pandas as pd\n",
        "\n",
        "# Create a dummy fno_symbols.csv file\n",
        "dummy_symbols = ['SBIN.NS', 'ACC.NS'] # Replace with actual symbols as needed\n",
        "df_symbols = pd.DataFrame({'symbol': dummy_symbols})\n",
        "df_symbols.to_csv('fno_symbols.csv', index=False)\n",
        "\n",
        "# Create a dummy fno_lots.csv file\n",
        "dummy_lots = {'SBIN': 100, 'SYMBOL2ACC': 50} # Replace with actual lots as needed\n",
        "df_lots = pd.DataFrame(list(dummy_lots.items()), columns=['symbol', 'lot_size'])\n",
        "df_lots.to_csv('fno_lots.csv', index=False)\n",
        "\n",
        "print(\"Created dummy 'fno_symbols.csv' and 'fno_lots.csv' files.\")"
      ],
      "execution_count": 9,
      "outputs": [
        {
          "output_type": "stream",
          "name": "stdout",
          "text": [
            "Created dummy 'fno_symbols.csv' and 'fno_lots.csv' files.\n"
          ]
        }
      ]
    }
  ]
}