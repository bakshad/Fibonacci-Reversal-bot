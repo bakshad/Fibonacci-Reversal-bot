{
 "cells": [
  {
   "cell_type": "markdown",
   "id": "7652472e",
   "metadata": {},
   "source": [
    "# 🧠 Fibonacci Reversal XGBoost Trainer (NSE Futures)\n",
    "This notebook loads historical OHLCV data for NSE Futures stocks, detects potential Fibonacci 0.618 reversal setups, labels outcomes (win/loss), and trains an XGBoost classifier to predict high-confidence signals."
   ]
  },
  {
   "cell_type": "code",
   "execution_count": null,
   "id": "812e169a",
   "metadata": {},
   "outputs": [],
   "source": [
    "!pip install -q yfinance ta xgboost scikit-learn pandas numpy matplotlib\n"
   ]
  },
  {
   "cell_type": "code",
   "execution_count": null,
   "id": "16a9fbaa",
   "metadata": {},
   "outputs": [],
   "source": [
    "import yfinance as yf\n",
    "import pandas as pd\n",
    "import numpy as np\n",
    "import xgboost as xgb\n",
    "from ta.momentum import RSIIndicator\n",
    "from ta.trend import MACD, ADXIndicator\n",
    "from sklearn.model_selection import train_test_split\n",
    "from sklearn.metrics import classification_report, confusion_matrix\n",
    "import matplotlib.pyplot as plt\n",
    "import joblib\n"
   ]
  },
  {
   "cell_type": "code",
   "execution_count": null,
   "id": "78f2f99c",
   "metadata": {},
   "outputs": [],
   "source": [
    "symbols_df = pd.read_csv(\"futures_list.csv\")\n",
    "symbols = symbols_df[\"Symbol\"].dropna().unique().tolist()\n",
    "print(f\"Loaded {len(symbols)} symbols.\")\n"
   ]
  },
  {
   "cell_type": "code",
   "execution_count": null,
   "id": "8d437c67",
   "metadata": {},
   "outputs": [],
   "source": [
    "def generate_features(df):\n",
    "    df[\"RSI\"] = RSIIndicator(df[\"Close\"]).rsi()\n",
    "    macd = MACD(df[\"Close\"])\n",
    "    df[\"MACD_Hist\"] = macd.macd_diff()\n",
    "    df[\"ADX\"] = ADXIndicator(df[\"High\"], df[\"Low\"], df[\"Close\"]).adx()\n",
    "    df[\"Volume_Change\"] = df[\"Volume\"].pct_change() * 100\n",
    "    return df\n",
    "\n",
    "def label_reversal_trades(df):\n",
    "    labels = []\n",
    "    for i in range(len(df) - 5):\n",
    "        entry = df.iloc[i]\n",
    "        future_prices = df.iloc[i+1:i+6][\"Close\"]\n",
    "        max_gain = (future_prices.max() - entry[\"Close\"]) / entry[\"Close\"]\n",
    "        max_loss = (future_prices.min() - entry[\"Close\"]) / entry[\"Close\"]\n",
    "        if max_gain >= 0.03:\n",
    "            labels.append(1)  # win\n",
    "        elif max_loss <= -0.015:\n",
    "            labels.append(0)  # loss\n",
    "        else:\n",
    "            labels.append(None)\n",
    "    return labels + [None]*5\n"
   ]
  },
  {
   "cell_type": "code",
   "execution_count": null,
   "id": "0aa7876b",
   "metadata": {},
   "outputs": [],
   "source": [
    "data = []\n",
    "for symbol in symbols:\n",
    "    try:\n",
    "        df = yf.download(f\"{symbol}.NS\", period=\"1y\", interval=\"1d\", progress=False)\n",
    "        if len(df) < 100:\n",
    "            continue\n",
    "        df = generate_features(df)\n",
    "        high = df['High'].rolling(10).max()\n",
    "        low = df['Low'].rolling(10).min()\n",
    "        df['retracement'] = high - (high - low) * 0.618\n",
    "        df['near_618'] = df['Low'] <= df['retracement']\n",
    "        df['label'] = label_reversal_trades(df)\n",
    "        df['Symbol'] = symbol\n",
    "        data.append(df)\n",
    "    except Exception as e:\n",
    "        print(f\"Error with {symbol}: {e}\")\n",
    "\n",
    "df_all = pd.concat(data)\n",
    "df_filtered = df_all[df_all['near_618'] & df_all['label'].notna()]\n",
    "print(\"Total labeled samples:\", len(df_filtered))\n"
   ]
  },
  {
   "cell_type": "code",
   "execution_count": null,
   "id": "e868c66a",
   "metadata": {},
   "outputs": [],
   "source": [
    "features = [\"RSI\", \"MACD_Hist\", \"ADX\", \"Volume_Change\"]\n",
    "X = df_filtered[features].fillna(0)\n",
    "y = df_filtered[\"label\"].astype(int)\n",
    "\n",
    "X_train, X_test, y_train, y_test = train_test_split(X, y, test_size=0.25, random_state=42)\n"
   ]
  },
  {
   "cell_type": "code",
   "execution_count": null,
   "id": "b5906361",
   "metadata": {},
   "outputs": [],
   "source": [
    "model = xgb.XGBClassifier(use_label_encoder=False, eval_metric='logloss')\n",
    "model.fit(X_train, y_train)\n",
    "\n",
    "y_pred = model.predict(X_test)\n",
    "print(\"🔍 Classification Report:\")\n",
    "print(classification_report(y_test, y_pred))\n",
    "print(\"📉 Confusion Matrix:\")\n",
    "print(confusion_matrix(y_test, y_pred))\n"
   ]
  },
  {
   "cell_type": "code",
   "execution_count": null,
   "id": "48c66642",
   "metadata": {},
   "outputs": [],
   "source": [
    "xgb.plot_importance(model)\n",
    "plt.title(\"📊 Feature Importance\")\n",
    "plt.show()\n"
   ]
  },
  {
   "cell_type": "code",
   "execution_count": null,
   "id": "a3951df1",
   "metadata": {},
   "outputs": [],
   "source": [
    "joblib.dump(model, \"fibonacci_xgb_model.pkl\")\n",
    "print(\"✅ Model saved as fibonacci_xgb_model.pkl\")\n"
   ]
  }
 ],
 "metadata": {},
 "nbformat": 4,
 "nbformat_minor": 5
}
