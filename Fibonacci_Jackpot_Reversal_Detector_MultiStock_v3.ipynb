{
 "cells": [
  {
   "cell_type": "markdown",
   "id": "02f443f7",
   "metadata": {},
   "source": [
    "# 📘 AI Fibonacci Jackpot Reversal Detector for NSE Futures\n",
    "Daily Time Frame | Multi-Stock | Telegram Alerts\n",
    "---\n",
    "- Runs on top NSE Futures stocks\n",
    "- Applies Fibonacci 0.618 logic + simulated AI filter\n",
    "- Avoids repeated alerts\n",
    "- Sends real-time Telegram alerts"
   ]
  },
  {
   "cell_type": "code",
   "execution_count": null,
   "id": "3e2ecf2d",
   "metadata": {},
   "outputs": [],
   "source": [
    "# 📦 Imports\n",
    "import pandas as pd\n",
    "import numpy as np\n",
    "import os\n",
    "import yfinance as yf\n",
    "import requests\n",
    "from datetime import datetime\n"
   ]
  },
  {
   "cell_type": "code",
   "execution_count": null,
   "id": "70ca4840",
   "metadata": {},
   "outputs": [],
   "source": [
    "# 🧾 List of top NSE Futures stocks (you can replace or load from CSV)\n",
    "symbols = [\"RELIANCE\", \"HDFCBANK\", \"ICICIBANK\", \"INFY\", \"SBIN\", \"TCS\", \"AXISBANK\"]\n"
   ]
  },
  {
   "cell_type": "code",
   "execution_count": null,
   "id": "fff7dd78",
   "metadata": {},
   "outputs": [],
   "source": [
    "# 📬 Telegram Setup\n",
    "TELEGRAM_BOT_TOKEN = os.getenv(\"TELEGRAM_BOT_TOKEN\")\n",
    "TELEGRAM_CHAT_ID = os.getenv(\"TELEGRAM_CHAT_ID\")\n",
    "\n",
    "def send_telegram(msg):\n",
    "    url = f\"https://api.telegram.org/bot{TELEGRAM_BOT_TOKEN}/sendMessage\"\n",
    "    payload = {'chat_id': TELEGRAM_CHAT_ID, 'text': msg}\n",
    "    r = requests.post(url, data=payload)\n",
    "    print(\"📤 Sent to Telegram:\", msg if r.status_code == 200 else r.text)\n"
   ]
  },
  {
   "cell_type": "code",
   "execution_count": null,
   "id": "22a6237f",
   "metadata": {},
   "outputs": [],
   "source": [
    "# 🧾 Signal Log\n",
    "log_file = \"signal_log.csv\"\n",
    "today_str = datetime.today().strftime(\"%Y-%m-%d\")\n",
    "if not os.path.exists(log_file):\n",
    "    pd.DataFrame(columns=[\"date\", \"symbol\"]).to_csv(log_file, index=False)\n",
    "signal_log = pd.read_csv(log_file)\n"
   ]
  },
  {
   "cell_type": "code",
   "execution_count": null,
   "id": "fb3bc412",
   "metadata": {},
   "outputs": [],
   "source": [
    "# 🔁 Loop through symbols\n",
    "for symbol in symbols:\n",
    "    try:\n",
    "        df = yf.download(f\"{symbol}.NS\", period=\"6mo\", interval=\"1d\", progress=False)\n",
    "        df = df.reset_index()\n",
    "        df[\"Symbol\"] = symbol\n",
    "        df.columns = [col.capitalize() for col in df.columns]  # Ensure 'Close', 'High', 'Low'\n",
    "        df[\"Date\"] = pd.to_datetime(df[\"Date\"])\n",
    "\n",
    "        # Fibonacci match detection\n",
    "        df[\"fib_match\"] = df[\"Low\"] < (df[\"High\"].rolling(10).max() - (df[\"High\"].rolling(10).max() - df[\"Low\"].rolling(10).min()) * 0.618)\n",
    "        df[\"ai_confidence\"] = np.random.uniform(0.6, 0.95, len(df))\n",
    "\n",
    "        for i, row in df.iterrows():\n",
    "            if (row[\"fib_match\"]) and (row[\"ai_confidence\"] > 0.75):\n",
    "                already_sent = ((signal_log[\"symbol\"] == symbol) & (signal_log[\"date\"] == today_str)).any()\n",
    "                if not already_sent:\n",
    "                    msg = f\"🚀 Jackpot Signal for {symbol} on {row['Date'].date()}\\nConfidence: {round(row['ai_confidence']*100, 2)}%\\nClose: {row['Close']}\"\n",
    "                    send_telegram(msg)\n",
    "                    signal_log = pd.concat([signal_log, pd.DataFrame([{\"date\": today_str, \"symbol\": symbol}])], ignore_index=True)\n",
    "                    signal_log.to_csv(log_file, index=False)\n",
    "    except Exception as e:\n",
    "        print(f\"❌ Failed for {symbol}: {e}\")\n"
   ]
  }
 ],
 "metadata": {},
 "nbformat": 4,
 "nbformat_minor": 5
}
