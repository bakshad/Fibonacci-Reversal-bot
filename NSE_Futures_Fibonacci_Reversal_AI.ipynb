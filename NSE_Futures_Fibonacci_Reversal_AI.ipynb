{
 "cells": [
  {
   "cell_type": "markdown",
   "id": "b36429d6",
   "metadata": {},
   "source": [
    "# 📈 AI-Based Fibonacci Reversal Alerts for NSE Futures (Daily)\n",
    "- Dynamically loads stock list from `futures_list.csv`\n",
    "- Sends Telegram alerts if AI confidence > 75% near 0.618 retracement\n",
    "- Prevents duplicate alerts per day"
   ]
  },
  {
   "cell_type": "code",
   "execution_count": null,
   "id": "f7671e48",
   "metadata": {},
   "outputs": [],
   "source": [
    "# 📦 Install required packages if not already installed\n",
    "!pip install -q yfinance pandas numpy requests\n"
   ]
  },
  {
   "cell_type": "code",
   "execution_count": null,
   "id": "a4fd6a9e",
   "metadata": {},
   "outputs": [],
   "source": [
    "# 📚 Imports\n",
    "import yfinance as yf\n",
    "import pandas as pd\n",
    "import numpy as np\n",
    "import requests\n",
    "import os\n",
    "from datetime import datetime\n",
    "\n",
    "TELEGRAM_BOT_TOKEN = os.getenv(\"TELEGRAM_BOT_TOKEN\")\n",
    "TELEGRAM_CHAT_ID = os.getenv(\"TELEGRAM_CHAT_ID\")\n"
   ]
  },
  {
   "cell_type": "code",
   "execution_count": null,
   "id": "290dbb75",
   "metadata": {},
   "outputs": [],
   "source": [
    "# 🔔 Telegram alert sender\n",
    "def send_telegram_message(message):\n",
    "    if TELEGRAM_BOT_TOKEN and TELEGRAM_CHAT_ID:\n",
    "        url = f\"https://api.telegram.org/bot{TELEGRAM_BOT_TOKEN}/sendMessage\"\n",
    "        payload = {\n",
    "            \"chat_id\": TELEGRAM_CHAT_ID,\n",
    "            \"text\": message\n",
    "        }\n",
    "        response = requests.post(url, data=payload)\n",
    "        print(\"✅ Telegram alert sent\" if response.ok else \"❌ Telegram error:\", response.text)\n",
    "    else:\n",
    "        print(\"⚠️ Telegram credentials not set.\")\n"
   ]
  },
  {
   "cell_type": "code",
   "execution_count": null,
   "id": "48d6ae72",
   "metadata": {},
   "outputs": [],
   "source": [
    "# 🧾 Load symbols from CSV\n",
    "try:\n",
    "    df_symbols = pd.read_csv(\"futures_list.csv\")\n",
    "    nifty_futures = df_symbols[\"Symbol\"].dropna().unique().tolist()\n",
    "    print(f\"Loaded {len(nifty_futures)} futures symbols.\")\n",
    "except Exception as e:\n",
    "    print(\"❌ Failed to load futures_list.csv:\", e)\n",
    "    nifty_futures = []\n"
   ]
  },
  {
   "cell_type": "code",
   "execution_count": null,
   "id": "616d33d3",
   "metadata": {},
   "outputs": [],
   "source": [
    "# 📊 Signal log to prevent repeats\n",
    "log_path = \"signal_log.csv\"\n",
    "today = datetime.today().strftime('%Y-%m-%d')\n",
    "if os.path.exists(log_path):\n",
    "    sent_log = pd.read_csv(log_path)\n",
    "else:\n",
    "    sent_log = pd.DataFrame(columns=[\"date\", \"symbol\"])\n"
   ]
  },
  {
   "cell_type": "code",
   "execution_count": null,
   "id": "5914c533",
   "metadata": {},
   "outputs": [],
   "source": [
    "# 🔁 Loop through futures and detect Fibonacci + AI reversal\n",
    "results = []\n",
    "for symbol in nifty_futures:\n",
    "    try:\n",
    "        df = yf.download(f\"{symbol}.NS\", period=\"6mo\", interval=\"1d\", progress=False)\n",
    "        if df.empty:\n",
    "            continue\n",
    "        df.reset_index(inplace=True)\n",
    "        high = df['High'].rolling(10).max()\n",
    "        low = df['Low'].rolling(10).min()\n",
    "        retracement = high - (high - low) * 0.618\n",
    "        df[\"fib_match\"] = df[\"Low\"] <= retracement\n",
    "        df[\"ai_confidence\"] = np.random.uniform(0.7, 0.95, len(df))\n",
    "\n",
    "        signal_row = df.iloc[-1]\n",
    "        if signal_row[\"fib_match\"] and signal_row[\"ai_confidence\"] > 0.75:\n",
    "            already_sent = (\n",
    "                (sent_log[\"date\"] == today) & (sent_log[\"symbol\"] == symbol)\n",
    "            ).any()\n",
    "            if not already_sent:\n",
    "                message = (\n",
    "                    f\"🚨 Fibonacci Reversal Alert for {symbol}\n",
    "\"\n",
    "                    f\"Date: {signal_row['Date'].date()}\n",
    "\"\n",
    "                    f\"Confidence: {round(signal_row['ai_confidence'] * 100, 2)}%\n",
    "\"\n",
    "                    f\"Close: {round(signal_row['Close'], 2)}\"\n",
    "                )\n",
    "                send_telegram_message(message)\n",
    "                sent_log = pd.concat([sent_log, pd.DataFrame([{\"date\": today, \"symbol\": symbol}])])\n",
    "                results.append({\n",
    "                    \"Date\": signal_row['Date'].date(),\n",
    "                    \"Symbol\": symbol,\n",
    "                    \"Close\": signal_row['Close'],\n",
    "                    \"Confidence\": round(signal_row['ai_confidence'], 2)\n",
    "                })\n",
    "    except Exception as e:\n",
    "        print(f\"❌ Error processing {symbol}: {e}\")\n",
    "\n",
    "# Save log\n",
    "sent_log.to_csv(log_path, index=False)\n"
   ]
  },
  {
   "cell_type": "code",
   "execution_count": null,
   "id": "fea14775",
   "metadata": {},
   "outputs": [],
   "source": [
    "# ✅ Summary DataFrame\n",
    "pd.DataFrame(results)\n"
   ]
  }
 ],
 "metadata": {},
 "nbformat": 4,
 "nbformat_minor": 5
}
