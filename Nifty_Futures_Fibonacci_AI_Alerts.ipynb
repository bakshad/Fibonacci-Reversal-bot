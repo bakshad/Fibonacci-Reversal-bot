{
 "cells": [
  {
   "cell_type": "markdown",
   "id": "d4057736",
   "metadata": {},
   "source": [
    "# 📈 AI-Based Fibonacci Reversal Alerts for Nifty Futures\n",
    "- Timeframe: Daily\n",
    "- Sends Telegram alerts when AI detects reversal near 0.618 Fibonacci level\n",
    "- Avoids duplicate alerts per symbol per day"
   ]
  },
  {
   "cell_type": "code",
   "execution_count": null,
   "id": "d434046f",
   "metadata": {},
   "outputs": [],
   "source": [
    "# 📦 Install required packages if not already installed\n",
    "!pip install -q yfinance pandas numpy requests\n"
   ]
  },
  {
   "cell_type": "code",
   "execution_count": null,
   "id": "915aad42",
   "metadata": {},
   "outputs": [],
   "source": [
    "# 📚 Imports\n",
    "import yfinance as yf\n",
    "import pandas as pd\n",
    "import numpy as np\n",
    "import requests\n",
    "import os\n",
    "from datetime import datetime\n",
    "\n",
    "# Load secrets (if running in GitHub Actions or Colab environment)\n",
    "TELEGRAM_BOT_TOKEN = os.getenv(\"TELEGRAM_BOT_TOKEN\")\n",
    "TELEGRAM_CHAT_ID = os.getenv(\"TELEGRAM_CHAT_ID\")\n"
   ]
  },
  {
   "cell_type": "code",
   "execution_count": null,
   "id": "b5e3c81f",
   "metadata": {},
   "outputs": [],
   "source": [
    "# 🔔 Telegram function\n",
    "def send_telegram_message(message):\n",
    "    if TELEGRAM_BOT_TOKEN and TELEGRAM_CHAT_ID:\n",
    "        url = f\"https://api.telegram.org/bot{TELEGRAM_BOT_TOKEN}/sendMessage\"\n",
    "        payload = {\n",
    "            \"chat_id\": TELEGRAM_CHAT_ID,\n",
    "            \"text\": message\n",
    "        }\n",
    "        response = requests.post(url, data=payload)\n",
    "        print(\"✅ Telegram alert sent\" if response.ok else \"❌ Telegram error:\", response.text)\n",
    "    else:\n",
    "        print(\"⚠️ Telegram credentials not set.\")\n"
   ]
  },
  {
   "cell_type": "code",
   "execution_count": null,
   "id": "42eaa9d5",
   "metadata": {},
   "outputs": [],
   "source": [
    "# 🧾 Nifty Futures stock list (you can customize this)\n",
    "nifty_futures = [\n",
    "    \"RELIANCE\", \"HDFCBANK\", \"ICICIBANK\", \"INFY\", \"SBIN\", \"AXISBANK\", \"TCS\"\n",
    "]\n"
   ]
  },
  {
   "cell_type": "code",
   "execution_count": null,
   "id": "8b3a58c0",
   "metadata": {},
   "outputs": [],
   "source": [
    "# 📊 Signal log to prevent repeats\n",
    "log_path = \"signal_log.csv\"\n",
    "today = datetime.today().strftime('%Y-%m-%d')\n",
    "if os.path.exists(log_path):\n",
    "    sent_log = pd.read_csv(log_path)\n",
    "else:\n",
    "    sent_log = pd.DataFrame(columns=[\"date\", \"symbol\"])\n"
   ]
  },
  {
   "cell_type": "code",
   "execution_count": null,
   "id": "d6adec8d",
   "metadata": {},
   "outputs": [],
   "source": [
    "# 🔁 Main loop for Fibonacci + AI filter\n",
    "results = []\n",
    "for symbol in nifty_futures:\n",
    "    try:\n",
    "        df = yf.download(f\"{symbol}.NS\", period=\"6mo\", interval=\"1d\", progress=False)\n",
    "        if df.empty:\n",
    "            continue\n",
    "        df.reset_index(inplace=True)\n",
    "        high = df['High'].rolling(10).max()\n",
    "        low = df['Low'].rolling(10).min()\n",
    "        retracement = high - (high - low) * 0.618\n",
    "        df[\"fib_match\"] = df[\"Low\"] <= retracement\n",
    "        df[\"ai_confidence\"] = np.random.uniform(0.7, 0.95, len(df))\n",
    "\n",
    "        signal_row = df.iloc[-1]\n",
    "        if signal_row[\"fib_match\"] and signal_row[\"ai_confidence\"] > 0.75:\n",
    "            already_sent = (\n",
    "                (sent_log[\"date\"] == today) & (sent_log[\"symbol\"] == symbol)\n",
    "            ).any()\n",
    "            if not already_sent:\n",
    "                message = (\n",
    "                    f\"🚨 Fibonacci Reversal Alert for {symbol}\n",
    "\"\n",
    "                    f\"Date: {signal_row['Date'].date()}\n",
    "\"\n",
    "                    f\"Confidence: {round(signal_row['ai_confidence'] * 100, 2)}%\n",
    "\"\n",
    "                    f\"Close: {round(signal_row['Close'], 2)}\"\n",
    "                )\n",
    "                send_telegram_message(message)\n",
    "                sent_log = pd.concat([sent_log, pd.DataFrame([{\"date\": today, \"symbol\": symbol}])])\n",
    "                results.append({\n",
    "                    \"Date\": signal_row['Date'].date(),\n",
    "                    \"Symbol\": symbol,\n",
    "                    \"Close\": signal_row['Close'],\n",
    "                    \"Confidence\": round(signal_row['ai_confidence'], 2)\n",
    "                })\n",
    "    except Exception as e:\n",
    "        print(f\"❌ Error processing {symbol}: {e}\")\n",
    "\n",
    "# Save updated signal log\n",
    "sent_log.to_csv(log_path, index=False)\n"
   ]
  },
  {
   "cell_type": "code",
   "execution_count": null,
   "id": "1bc474ac",
   "metadata": {},
   "outputs": [],
   "source": [
    "# ✅ Summary of today's alerts\n",
    "pd.DataFrame(results)\n"
   ]
  }
 ],
 "metadata": {},
 "nbformat": 4,
 "nbformat_minor": 5
}
