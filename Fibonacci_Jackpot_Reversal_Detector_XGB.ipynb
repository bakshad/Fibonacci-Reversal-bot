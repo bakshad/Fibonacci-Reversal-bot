{
 "cells": [
  {
   "cell_type": "code",
   "execution_count": null,
   "id": "f4ef3a05",
   "metadata": {},
   "outputs": [],
   "source": [
    "# Install required packages\n",
    "!pip install ta mplfinance yfinance joblib xgboost scikit-learn"
   ]
  },
  {
   "cell_type": "code",
   "execution_count": null,
   "id": "7cd08a48",
   "metadata": {},
   "outputs": [],
   "source": [
    "import pandas as pd\n",
    "import yfinance as yf\n",
    "import numpy as np\n",
    "import joblib\n",
    "import os\n",
    "from datetime import datetime\n",
    "from ta.momentum import RSIIndicator\n",
    "from ta.trend import MACD, ADXIndicator\n",
    "from ta.volatility import AverageTrueRange\n",
    "from sklearn.model_selection import train_test_split\n",
    "from xgboost import XGBClassifier\n",
    "import mplfinance as mpf"
   ]
  },
  {
   "cell_type": "code",
   "execution_count": null,
   "id": "93399d9d",
   "metadata": {},
   "outputs": [],
   "source": [
    "# Load F&O symbols\n",
    "df_symbols = pd.read_csv(\"futures_list.csv\")\n",
    "futures_list = df_symbols[\"Symbol\"].dropna().tolist()\n",
    "print(f\"Loaded {len(futures_list)} symbols for training and detection.\")"
   ]
  },
  {
   "cell_type": "code",
   "execution_count": null,
   "id": "afc72034",
   "metadata": {},
   "outputs": [],
   "source": [
    "# Prepare dataset for training\n",
    "records = []\n",
    "for symbol in futures_list:\n",
    "    df = yf.download(f\"{symbol}.NS\", period=\"1y\", interval=\"1d\", progress=False)\n",
    "    if df.shape[0] < 20:\n",
    "        continue\n",
    "    df[\"RSI\"] = RSIIndicator(df[\"Close\"]).rsi()\n",
    "    macd = MACD(df[\"Close\"])\n",
    "    df[\"MACD_Hist\"] = macd.macd_diff()\n",
    "    df[\"ADX\"] = ADXIndicator(df[\"High\"], df[\"Low\"], df[\"Close\"]).adx()\n",
    "    high = df[\"High\"].rolling(10).max()\n",
    "    low = df[\"Low\"].rolling(10).min()\n",
    "    retrace = high - (high - low) * 0.618\n",
    "    df[\"near_618\"] = (df[\"Low\"] <= retrace).astype(int)\n",
    "    # Example label: next-day return positive?\n",
    "    df[\"target\"] = (df[\"Close\"].shift(-1) > df[\"Close\"]).astype(int)\n",
    "    df = df.dropna(subset=[\"RSI\",\"MACD_Hist\",\"ADX\",\"near_618\",\"target\"])\n",
    "    features = df[[\"RSI\",\"MACD_Hist\",\"ADX\",\"near_618\",\"Volume\"]]\n",
    "    for idx, row in features.iterrows():\n",
    "        records.append({\n",
    "            \"RSI\": row[\"RSI\"],\n",
    "            \"MACD_Hist\": row[\"MACD_Hist\"],\n",
    "            \"ADX\": row[\"ADX\"],\n",
    "            \"near_618\": row[\"near_618\"],\n",
    "            \"Volume\": row[\"Volume\"],\n",
    "            \"target\": int(df.loc[idx, \"target\"])\n",
    "        })\n",
    "train_df = pd.DataFrame(records)\n",
    "print(f\"Training dataset size: {train_df.shape}\")"
   ]
  },
  {
   "cell_type": "code",
   "execution_count": null,
   "id": "37b5e8d2",
   "metadata": {},
   "outputs": [],
   "source": [
    "# Split and train XGBoost\n",
    "X = train_df.drop(\"target\", axis=1)\n",
    "y = train_df[\"target\"]\n",
    "X_train, X_test, y_train, y_test = train_test_split(X, y, test_size=0.2, random_state=42)\n",
    "model = XGBClassifier(objective=\"binary:logistic\", n_estimators=100, max_depth=4, learning_rate=0.1, random_state=42)\n",
    "model.fit(X_train, y_train)\n",
    "print(\"Model trained. Test accuracy:\", model.score(X_test, y_test))\n",
    "# Save model\n",
    "joblib.dump(model, \"fibonacci_xgb_model.pkl\")\n",
    "print(\"Saved model to fibonacci_xgb_model.pkl\")"
   ]
  },
  {
   "cell_type": "code",
   "execution_count": null,
   "id": "15818d33",
   "metadata": {},
   "outputs": [],
   "source": [
    "# Detection & alerts\n",
    "# Load model\n",
    "model = joblib.load(\"fibonacci_xgb_model.pkl\")\n",
    "TELEGRAM_BOT_TOKEN = os.getenv(\"TELEGRAM_BOT_TOKEN\")\n",
    "TELEGRAM_CHAT_ID = os.getenv(\"TELEGRAM_CHAT_ID\")\n",
    "\n",
    "def send_telegram(msg, chart_path=None):\n",
    "    url = f\"https://api.telegram.org/bot{TELEGRAM_BOT_TOKEN}/sendPhoto\" if chart_path else f\"https://api.telegram.org/bot{TELEGRAM_BOT_TOKEN}/sendMessage\"\n",
    "    data = {'chat_id': TELEGRAM_CHAT_ID, 'caption': msg} if chart_path else {'chat_id': TELEGRAM_CHAT_ID, 'text': msg}\n",
    "    files = {'photo': open(chart_path, 'rb')} if chart_path else None\n",
    "    requests.post(url, data=data, files=files)\n",
    "\n",
    "today = datetime.today().strftime(\"%Y-%m-%d\")\n",
    "sent_file = \"sent_signals.csv\"\n",
    "if not os.path.exists(sent_file):\n",
    "    pd.DataFrame(columns=[\"date\",\"symbol\"]).to_csv(sent_file, index=False)\n",
    "sent = pd.read_csv(sent_file)\n",
    "\n",
    "results = []\n",
    "for symbol in futures_list:\n",
    "    df = yf.download(f\"{symbol}.NS\", period=\"6mo\", interval=\"1d\", progress=False)\n",
    "    if df.empty: continue\n",
    "    df[\"RSI\"] = RSIIndicator(df[\"Close\"]).rsi()\n",
    "    macd = MACD(df[\"Close\"])\n",
    "    df[\"MACD_Hist\"] = macd.macd_diff()\n",
    "    df[\"ADX\"] = ADXIndicator(df[\"High\"], df[\"Low\"], df[\"Close\"]).adx()\n",
    "    high = df[\"High\"].rolling(10).max()\n",
    "    low = df[\"Low\"].rolling(10).min()\n",
    "    retrace = high - (high - low) * 0.618\n",
    "    df[\"near_618\"] = (df[\"Low\"] <= retrace).astype(int)\n",
    "    latest = df.dropna().iloc[-1]\n",
    "    feats = np.array([latest[\"RSI\"],latest[\"MACD_Hist\"],latest[\"ADX\"],latest[\"near_618\"],latest[\"Volume\"]]).reshape(1,-1)\n",
    "    prob = model.predict_proba(feats)[0][1]\n",
    "    if prob >= 0.7 and not ((sent[\"symbol\"]==symbol)&(sent[\"date\"]==today)).any():\n",
    "        # Chart\n",
    "        chart_df = df[-50:]\n",
    "        fib_lvl = float(retrace.iloc[-1])\n",
    "        apds = [mpf.make_addplot([fib_lvl]*len(chart_df), type=\"line\", linestyle=\"dashed\")]\n",
    "        mpf.plot(chart_df, type=\"candle\", volume=True, addplot=apds, style=\"default\", savefig=\"chart.png\")\n",
    "        msg = f\"🚨 {symbol} Alert {today}\\nProb: {prob:.1%}\\nRSI:{latest['RSI']:.1f}, MACD:{latest['MACD_Hist']:.2f}\"\n",
    "        send_telegram(msg, \"chart.png\")\n",
    "        sent = sent.append({\"date\":today,\"symbol\":symbol}, ignore_index=True)\n",
    "        sent.to_csv(sent_file, index=False)\n",
    "        results.append({\"symbol\": symbol, \"prob\": prob})\n",
    "pd.DataFrame(results)"
   ]
  }
 ],
 "metadata": {
  "kernelspec": {
   "display_name": "Python 3",
   "name": "python3"
  },
  "language_info": {
   "name": "python",
   "version": "3.9"
  }
 },
 "nbformat": 4,
 "nbformat_minor": 5
}
