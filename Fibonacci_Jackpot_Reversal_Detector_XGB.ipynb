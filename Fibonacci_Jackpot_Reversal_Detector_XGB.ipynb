{
 "cells": [
  {
   "cell_type": "markdown",
   "id": "a4318745",
   "metadata": {},
   "source": [
    "# 🔁 Fibonacci Jackpot Reversal Detector with XGBoost Filtering\n",
    "- Scans all NSE Futures daily\n",
    "- Filters signals using trained XGBoost model\n",
    "- Sends Telegram alert if confidence > 75%\n",
    "- Avoids duplicate alerts\n"
   ]
  },
  {
   "cell_type": "code",
   "execution_count": null,
   "id": "47e6cd39",
   "metadata": {},
   "outputs": [],
   "source": [
    "!pip install -q yfinance ta joblib\n"
   ]
  },
  {
   "cell_type": "code",
   "execution_count": null,
   "id": "7252a14e",
   "metadata": {},
   "outputs": [],
   "source": [
    "import yfinance as yf\n",
    "import pandas as pd\n",
    "import numpy as np\n",
    "import joblib\n",
    "import requests\n",
    "import os\n",
    "from datetime import datetime\n",
    "from ta.momentum import RSIIndicator\n",
    "from ta.trend import MACD, ADXIndicator\n"
   ]
  },
  {
   "cell_type": "code",
   "execution_count": null,
   "id": "ef0d1e8d",
   "metadata": {},
   "outputs": [],
   "source": [
    "TELEGRAM_BOT_TOKEN = os.getenv(\"TELEGRAM_BOT_TOKEN\")\n",
    "TELEGRAM_CHAT_ID = os.getenv(\"TELEGRAM_CHAT_ID\")\n",
    "MODEL_PATH = \"fibonacci_xgb_model.pkl\"\n",
    "\n",
    "model = joblib.load(MODEL_PATH)\n",
    "print(\"✅ XGBoost model loaded.\")\n"
   ]
  },
  {
   "cell_type": "code",
   "execution_count": null,
   "id": "ae8378a7",
   "metadata": {},
   "outputs": [],
   "source": [
    "def send_telegram_message(message):\n",
    "    if TELEGRAM_BOT_TOKEN and TELEGRAM_CHAT_ID:\n",
    "        url = f\"https://api.telegram.org/bot{TELEGRAM_BOT_TOKEN}/sendMessage\"\n",
    "        payload = {\"chat_id\": TELEGRAM_CHAT_ID, \"text\": message}\n",
    "        response = requests.post(url, data=payload)\n",
    "        print(\"✅ Telegram alert sent\" if response.ok else \"❌ Telegram error:\", response.text)\n",
    "    else:\n",
    "        print(\"⚠️ Telegram credentials not set.\")\n"
   ]
  },
  {
   "cell_type": "code",
   "execution_count": null,
   "id": "fb523b41",
   "metadata": {},
   "outputs": [],
   "source": [
    "df_symbols = pd.read_csv(\"futures_list.csv\")\n",
    "nifty_futures = df_symbols[\"Symbol\"].dropna().unique().tolist()\n",
    "print(f\"Loaded {len(nifty_futures)} futures symbols.\")\n"
   ]
  },
  {
   "cell_type": "code",
   "execution_count": null,
   "id": "be5f128e",
   "metadata": {},
   "outputs": [],
   "source": [
    "log_path = \"signal_log.csv\"\n",
    "today = datetime.today().strftime('%Y-%m-%d')\n",
    "if os.path.exists(log_path):\n",
    "    sent_log = pd.read_csv(log_path)\n",
    "else:\n",
    "    sent_log = pd.DataFrame(columns=[\"date\", \"symbol\"])\n"
   ]
  },
  {
   "cell_type": "code",
   "execution_count": null,
   "id": "47209347",
   "metadata": {},
   "outputs": [],
   "source": [
    "results = []\n",
    "features = [\"RSI\", \"MACD_Hist\", \"ADX\", \"Volume_Change\"]\n",
    "\n",
    "for symbol in nifty_futures:\n",
    "    try:\n",
    "        df = yf.download(f\"{symbol}.NS\", period=\"6mo\", interval=\"1d\", progress=False)\n",
    "        if df.empty:\n",
    "            continue\n",
    "\n",
    "        df[\"RSI\"] = RSIIndicator(df[\"Close\"]).rsi()\n",
    "        macd = MACD(df[\"Close\"])\n",
    "        df[\"MACD_Hist\"] = macd.macd_diff()\n",
    "        df[\"ADX\"] = ADXIndicator(df[\"High\"], df[\"Low\"], df[\"Close\"]).adx()\n",
    "        df[\"Volume_Change\"] = df[\"Volume\"].pct_change() * 100\n",
    "\n",
    "        high = df['High'].rolling(10).max()\n",
    "        low = df['Low'].rolling(10).min()\n",
    "        retracement = high - (high - low) * 0.618\n",
    "        df[\"near_618\"] = df[\"Low\"] <= retracement\n",
    "\n",
    "        latest = df.iloc[-1]\n",
    "        if latest[\"near_618\"]:\n",
    "            row_features = latest[features].fillna(0).values.reshape(1, -1)\n",
    "            confidence = model.predict_proba(row_features)[0][1]\n",
    "            if confidence > 0.75:\n",
    "                already_sent = ((sent_log[\"date\"] == today) & (sent_log[\"symbol\"] == symbol)).any()\n",
    "                if not already_sent:\n",
    "                    message = (\n",
    "                        f\"🚨 AI Fibonacci Reversal Alert: {symbol}\n",
    "\"\n",
    "                        f\"Date: {latest.name.date()}\n",
    "\"\n",
    "                        f\"Confidence: {round(confidence * 100, 2)}%\n",
    "\"\n",
    "                        f\"Close: ₹{round(latest['Close'], 2)}\"\n",
    "                    )\n",
    "                    send_telegram_message(message)\n",
    "                    sent_log = pd.concat([sent_log, pd.DataFrame([{\"date\": today, \"symbol\": symbol}])])\n",
    "                    results.append({\n",
    "                        \"Symbol\": symbol,\n",
    "                        \"Confidence\": round(confidence, 3),\n",
    "                        \"Close\": round(latest[\"Close\"], 2)\n",
    "                    })\n",
    "    except Exception as e:\n",
    "        print(f\"❌ Error with {symbol}: {e}\")\n",
    "\n",
    "sent_log.to_csv(log_path, index=False)\n"
   ]
  },
  {
   "cell_type": "code",
   "execution_count": null,
   "id": "01c8de54",
   "metadata": {},
   "outputs": [],
   "source": [
    "pd.DataFrame(results)\n"
   ]
  }
 ],
 "metadata": {},
 "nbformat": 4,
 "nbformat_minor": 5
}
