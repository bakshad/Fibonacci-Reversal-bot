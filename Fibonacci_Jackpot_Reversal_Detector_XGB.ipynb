{
 "cells": [
  {
   "cell_type": "markdown",
   "id": "3a52b664",
   "metadata": {},
   "source": [
    "# ✅ Fibonacci Jackpot Reversal Detector with XGBoost\n",
    "This is a placeholder for your full strategy notebook, now with valid kernel."
   ]
  },
  {
   "cell_type": "code",
   "execution_count": null,
   "id": "fc5c1d4f",
   "metadata": {},
   "outputs": [],
   "source": [
    "# Sample code block\n",
    "print('✅ Notebook kernel metadata is now fixed.')"
   ]
  }
 ],
 "metadata": {
  "kernelspec": {
   "display_name": "Python 3",
   "language": "python",
   "name": "python3"
  },
  "language_info": {
   "name": "python",
   "version": "3.9"
  }
 },
 "nbformat": 4,
 "nbformat_minor": 5
}

import os, requests
from datetime import datetime, timezone, timedelta

def send_telegram_alert(symbol, confidence, signal_type):
    token = os.getenv("TELEGRAM_BOT_TOKEN")
    chat_id = os.getenv("TELEGRAM_CHAT_ID")
    now_ist = datetime.now(timezone.utc) + timedelta(hours=5, minutes=30)
    timestamp = now_ist.strftime("%d-%B-%Y %H:%M IST")
    text = f"""🚨 Reversal Signal Detected

🧠 Symbol: {symbol}
📈 Confidence: {int(confidence*100)}%
🕒 Timestamp: {timestamp}
📊 Signal Type: {signal_type}"""
    url = f"https://api.telegram.org/bot{token}/sendMessage"
    requests.post(url, data={"chat_id": chat_id, "text": text})
