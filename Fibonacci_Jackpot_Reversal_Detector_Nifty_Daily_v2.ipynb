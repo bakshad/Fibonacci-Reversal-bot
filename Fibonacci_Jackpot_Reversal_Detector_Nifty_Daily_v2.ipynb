{
 "cells": [
  {
   "cell_type": "markdown",
   "id": "1e2f0607",
   "metadata": {},
   "source": [
    "# 📘 AI Fibonacci Jackpot Reversal Detector\n",
    "Nifty Futures | Daily Time Frame | Real-Time Telegram Alerts\n",
    "---\n",
    "- Uses yfinance fallback data with proper formatting\n",
    "- Detects signals near Fibonacci 0.618\n",
    "- Sends Telegram alerts using GitHub secrets\n",
    "- Avoids repeat alerts using a daily signal log"
   ]
  },
  {
   "cell_type": "code",
   "execution_count": null,
   "id": "27d557dd",
   "metadata": {},
   "outputs": [],
   "source": [
    "# 📦 Imports\n",
    "import pandas as pd\n",
    "import numpy as np\n",
    "import os\n",
    "import yfinance as yf\n",
    "import requests\n",
    "from datetime import datetime\n"
   ]
  },
  {
   "cell_type": "code",
   "execution_count": null,
   "id": "84a59d38",
   "metadata": {},
   "outputs": [],
   "source": [
    "# 🗃️ Load data (fallback to yfinance with proper formatting)\n",
    "try:\n",
    "    df = pd.read_csv(\"sample_nifty_futures_data.csv\")\n",
    "    print(\"✅ Loaded uploaded CSV\")\n",
    "except:\n",
    "    df = yf.download(\"^NSEI\", period=\"6mo\", interval=\"1d\", progress=False)\n",
    "    df = df.reset_index()\n",
    "    df[\"Symbol\"] = \"NIFTY\"\n",
    "    df.columns = [col.capitalize() for col in df.columns]  # Ensure 'Close', 'High', 'Low'\n",
    "    print(\"📥 Using fallback yfinance data\")\n",
    "\n",
    "df[\"Date\"] = pd.to_datetime(df[\"Date\"])\n"
   ]
  },
  {
   "cell_type": "code",
   "execution_count": null,
   "id": "0119e52a",
   "metadata": {},
   "outputs": [],
   "source": [
    "# 🔢 Fibonacci 0.618 Detection (Dummy Logic)\n",
    "df[\"fib_match\"] = df[\"Low\"] < (df[\"High\"].rolling(10).max() - (df[\"High\"].rolling(10).max() - df[\"Low\"].rolling(10).min()) * 0.618)\n"
   ]
  },
  {
   "cell_type": "code",
   "execution_count": null,
   "id": "7a208731",
   "metadata": {},
   "outputs": [],
   "source": [
    "# 🧠 Dummy AI Confidence (Simulated)\n",
    "df[\"ai_confidence\"] = np.random.uniform(0.6, 0.95, len(df))\n"
   ]
  },
  {
   "cell_type": "code",
   "execution_count": null,
   "id": "6cf1a2b5",
   "metadata": {},
   "outputs": [],
   "source": [
    "# 🧾 Signal Log to Prevent Repeat Alerts\n",
    "log_file = \"signal_log.csv\"\n",
    "today_str = datetime.today().strftime(\"%Y-%m-%d\")\n",
    "if not os.path.exists(log_file):\n",
    "    pd.DataFrame(columns=[\"date\", \"symbol\"]).to_csv(log_file, index=False)\n",
    "signal_log = pd.read_csv(log_file)\n"
   ]
  },
  {
   "cell_type": "code",
   "execution_count": null,
   "id": "5a387526",
   "metadata": {},
   "outputs": [],
   "source": [
    "# 📬 Telegram Setup\n",
    "TELEGRAM_BOT_TOKEN = os.getenv(\"TELEGRAM_BOT_TOKEN\")\n",
    "TELEGRAM_CHAT_ID = os.getenv(\"TELEGRAM_CHAT_ID\")\n",
    "\n",
    "def send_telegram(msg):\n",
    "    url = f\"https://api.telegram.org/bot{TELEGRAM_BOT_TOKEN}/sendMessage\"\n",
    "    payload = {'chat_id': TELEGRAM_CHAT_ID, 'text': msg}\n",
    "    r = requests.post(url, data=payload)\n",
    "    print(\"📤 Sent to Telegram:\", msg if r.status_code == 200 else r.text)\n"
   ]
  },
  {
   "cell_type": "code",
   "execution_count": null,
   "id": "b751c34e",
   "metadata": {},
   "outputs": [],
   "source": [
    "# 📊 Alert Logic\n",
    "for i, row in df.iterrows():\n",
    "    symbol = row.get(\"Symbol\", \"NIFTY\")\n",
    "    if (row[\"fib_match\"]) and (row[\"ai_confidence\"] > 0.75):\n",
    "        already_sent = ((signal_log[\"symbol\"] == symbol) & (signal_log[\"date\"] == today_str)).any()\n",
    "        if not already_sent:\n",
    "            msg = f\"🚀 Jackpot Signal for {symbol} on {row['Date'].date()}\\nConfidence: {round(row['ai_confidence']*100, 2)}%\\nClose: {row['Close']}\"\n",
    "            send_telegram(msg)\n",
    "            signal_log = pd.concat([signal_log, pd.DataFrame([{\"date\": today_str, \"symbol\": symbol}])], ignore_index=True)\n",
    "            signal_log.to_csv(log_file, index=False)\n"
   ]
  }
 ],
 "metadata": {},
 "nbformat": 4,
 "nbformat_minor": 5
}
