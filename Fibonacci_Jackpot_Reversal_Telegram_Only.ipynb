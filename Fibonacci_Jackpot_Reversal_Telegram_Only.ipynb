{
 "cells": [
  {
   "cell_type": "code",
   "execution_count": null,
   "id": "e40397b1",
   "metadata": {},
   "outputs": [],
   "source": [
    "\n",
    "import os, requests\n",
    "from datetime import datetime, timezone, timedelta\n",
    "\n",
    "def send_telegram_alert(symbol, confidence, signal_type):\n",
    "    token = os.getenv(\"TELEGRAM_BOT_TOKEN\")\n",
    "    chat_id = os.getenv(\"TELEGRAM_CHAT_ID\")\n",
    "    now_ist = datetime.now(timezone.utc) + timedelta(hours=5, minutes=30)\n",
    "    timestamp = now_ist.strftime(\"%d-%B-%Y %H:%M IST\")\n",
    "    text = f\"\"\"🚨 Reversal Signal Detected\n",
    "\n",
    "🧠 Symbol: {symbol}\n",
    "📈 Confidence: {int(confidence*100)}%\n",
    "🕒 Timestamp: {timestamp}\n",
    "📊 Signal Type: {signal_type}\"\"\"\n",
    "    url = f\"https://api.telegram.org/bot{token}/sendMessage\"\n",
    "    requests.post(url, data={\"chat_id\": chat_id, \"text\": text})\n"
   ]
  }
 ],
 "metadata": {},
 "nbformat": 4,
 "nbformat_minor": 5
}
